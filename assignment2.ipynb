{
  "nbformat": 4,
  "nbformat_minor": 0,
  "metadata": {
    "colab": {
      "provenance": []
    },
    "kernelspec": {
      "name": "python3",
      "display_name": "Python 3"
    },
    "language_info": {
      "name": "python"
    }
  },
  "cells": [
    {
      "cell_type": "code",
      "execution_count": null,
      "metadata": {
        "colab": {
          "base_uri": "https://localhost:8080/"
        },
        "id": "hQm_CaE1RHaj",
        "outputId": "132d0f43-4a37-43df-9cf1-b4d1c6ac3e18"
      },
      "outputs": [
        {
          "output_type": "stream",
          "name": "stdout",
          "text": [
            "Sample Mean: 1.24\n",
            "Sample Standard Deviation: 0.19\n",
            "T-Value: 2.977\n",
            "Margin of Error: 0.148\n",
            "99% Confidence Interval: (1.090197338451367, 1.3871359948819662)\n"
          ]
        }
      ],
      "source": [
        "import numpy as np\n",
        "import scipy.stats as stats\n",
        "data = [1.13, 1.55, 1.43, 0.92, 1.25, 1.36, 1.32, 0.85, 1.07, 1.48, 1.20, 1.33, 1.18, 1.22, 1.29]\n",
        "\n",
        "sample_mean = np.mean(data)\n",
        "sample_std = np.std(data, ddof=1)\n",
        "\n",
        "\n",
        "n = len(data)\n",
        "\n",
        "\n",
        "confidence_level = 0.99\n",
        "alpha = 1 - confidence_level\n",
        "t_value = stats.t.ppf(1 - alpha/2, df=n-1)\n",
        "\n",
        "\n",
        "margin_of_error = t_value * (sample_std / np.sqrt(n))\n",
        "\n",
        "\n",
        "confidence_interval = (sample_mean - margin_of_error, sample_mean + margin_of_error)\n",
        "\n",
        "\n",
        "print(f\"Sample Mean: {sample_mean:.2f}\")\n",
        "print(f\"Sample Standard Deviation: {sample_std:.2f}\")\n",
        "print(f\"T-Value: {t_value:.3f}\")\n",
        "print(f\"Margin of Error: {margin_of_error:.3f}\")\n",
        "print(f\"99% Confidence Interval: {confidence_interval}\")\n"
      ]
    },
    {
      "cell_type": "code",
      "source": [
        "import numpy as np\n",
        "import scipy.stats as stats\n",
        "\n",
        "\n",
        "data = [1.13, 1.55, 1.43, 0.92, 1.25, 1.36, 1.32, 0.85, 1.07, 1.48, 1.20, 1.33, 1.18, 1.22, 1.29]\n",
        "\n",
        "population_std = 0.2\n",
        "\n",
        "sample_mean = np.mean(data)\n",
        "\n",
        "n = len(data)\n",
        "\n",
        "confidence_level = 0.99\n",
        "alpha = 1 - confidence_level\n",
        "z_value = stats.norm.ppf(1 - alpha/2)\n",
        "\n",
        "margin_of_error = z_value * (population_std / np.sqrt(n))\n",
        "\n",
        "confidence_interval = (sample_mean - margin_of_error, sample_mean + margin_of_error)\n",
        "\n",
        "print(f\"Sample Mean: {sample_mean:.2f}\")\n",
        "print(f\"Population Standard Deviation: {population_std}\")\n",
        "print(f\"Z-Value: {z_value:.3f}\")\n",
        "print(f\"Margin of Error: {margin_of_error:.3f}\")\n",
        "print(f\"99% Confidence Interval: {confidence_interval}\")\n"
      ],
      "metadata": {
        "colab": {
          "base_uri": "https://localhost:8080/"
        },
        "id": "b6j7b7a1R5_U",
        "outputId": "5ebb82ed-3b40-4c4e-c32f-33e4165bdf56"
      },
      "execution_count": null,
      "outputs": [
        {
          "output_type": "stream",
          "name": "stdout",
          "text": [
            "Sample Mean: 1.24\n",
            "Population Standard Deviation: 0.2\n",
            "Z-Value: 2.576\n",
            "Margin of Error: 0.133\n",
            "99% Confidence Interval: (1.1056514133957607, 1.3716819199375725)\n"
          ]
        }
      ]
    }
  ]
}