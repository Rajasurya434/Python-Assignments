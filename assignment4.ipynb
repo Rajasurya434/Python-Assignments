{
  "nbformat": 4,
  "nbformat_minor": 0,
  "metadata": {
    "colab": {
      "provenance": [],
      "authorship_tag": "ABX9TyM94K/oY5i08nyM7MmJfJTP"
    },
    "kernelspec": {
      "name": "python3",
      "display_name": "Python 3"
    },
    "language_info": {
      "name": "python"
    }
  },
  "cells": [
    {
      "cell_type": "markdown",
      "source": [
        "**CHI SQUARE **"
      ],
      "metadata": {
        "id": "Mri3V8tAameq"
      }
    },
    {
      "cell_type": "markdown",
      "source": [
        "Null Hypothesis = There is no relation between two variables"
      ],
      "metadata": {
        "id": "Zd0J-XLwbev-"
      }
    },
    {
      "cell_type": "markdown",
      "source": [
        "ALternative Hypothesis : There is significance relation between two variables"
      ],
      "metadata": {
        "id": "Spt9n3mHbp_m"
      }
    },
    {
      "cell_type": "code",
      "execution_count": 6,
      "metadata": {
        "colab": {
          "base_uri": "https://localhost:8080/"
        },
        "id": "r7G7gCrQY6c4",
        "outputId": "0e70d89e-447e-4612-a6fa-0d9e4ca12104"
      },
      "outputs": [
        {
          "output_type": "stream",
          "name": "stdout",
          "text": [
            "Degree of Freedom is : 4\n"
          ]
        }
      ],
      "source": [
        "import numpy as np\n",
        "observed = np.array([\n",
        "    [50, 70],\n",
        "    [80, 100],\n",
        "    [60, 90],\n",
        "    [30, 50],\n",
        "    [20, 50]\n",
        "])\n",
        "dimensions = observed.shape\n",
        "rows, columns = dimensions\n",
        "\n",
        "Degree_of_freedom = (columns-1)*(rows-1)\n",
        "print(\"Degree of Freedom is :\",Degree_of_freedom)"
      ]
    },
    {
      "cell_type": "code",
      "source": [
        "!pip install scipy"
      ],
      "metadata": {
        "colab": {
          "base_uri": "https://localhost:8080/"
        },
        "id": "tfcheS7Mad1B",
        "outputId": "e8e4739f-de46-4e1d-91aa-25113df8a236"
      },
      "execution_count": 9,
      "outputs": [
        {
          "output_type": "stream",
          "name": "stdout",
          "text": [
            "Requirement already satisfied: scipy in /usr/local/lib/python3.10/dist-packages (1.11.4)\n",
            "Requirement already satisfied: numpy<1.28.0,>=1.21.6 in /usr/local/lib/python3.10/dist-packages (from scipy) (1.25.2)\n"
          ]
        }
      ]
    },
    {
      "cell_type": "code",
      "source": [
        "from scipy.stats import chi2_contingency"
      ],
      "metadata": {
        "id": "EiWKaDdlaYuo"
      },
      "execution_count": 11,
      "outputs": []
    },
    {
      "cell_type": "code",
      "source": [
        "stat, p, dof, expected = chi2_contingency(observed)\n",
        "print('dof=%d' % dof)\n",
        "print(expected)\n",
        "\n",
        "alpha = 0.05\n",
        "print(\"p value is \" + str(p))\n",
        "if p <= alpha:\n",
        "    print('Dependent (reject H0)')\n",
        "else:\n",
        "    print('Independent (H0 holds true)')"
      ],
      "metadata": {
        "colab": {
          "base_uri": "https://localhost:8080/"
        },
        "id": "Y3PZvtvOa52O",
        "outputId": "4c020f1d-c32f-4a2c-a832-d31b2384a75b"
      },
      "execution_count": 13,
      "outputs": [
        {
          "output_type": "stream",
          "name": "stdout",
          "text": [
            "dof=4\n",
            "[[ 48.  72.]\n",
            " [ 72. 108.]\n",
            " [ 60.  90.]\n",
            " [ 32.  48.]\n",
            " [ 28.  42.]]\n",
            "Critical value is  0.22784371130697179\n",
            "Independent (H0 holds true)\n"
          ]
        }
      ]
    },
    {
      "cell_type": "code",
      "source": [
        "import scipy.stats\n",
        "critical_value = scipy.stats.chi2.ppf(1-0.05, df=4)\n",
        "print(\"Critical Value is :\",critical_value)\n"
      ],
      "metadata": {
        "colab": {
          "base_uri": "https://localhost:8080/"
        },
        "id": "BAruV3XLf2rR",
        "outputId": "b2abfae9-56b2-410f-8850-4309d4a1c59d"
      },
      "execution_count": 20,
      "outputs": [
        {
          "output_type": "stream",
          "name": "stdout",
          "text": [
            "Critical Value is : 9.487729036781154\n"
          ]
        }
      ]
    },
    {
      "cell_type": "markdown",
      "source": [
        "Here Critical value is greater than Caluclated value which is"
      ],
      "metadata": {
        "id": "Bq3r5cb0cFsy"
      }
    },
    {
      "cell_type": "markdown",
      "source": [
        "There is no relation between two variables"
      ],
      "metadata": {
        "id": "rGdriF6rhAm1"
      }
    },
    {
      "cell_type": "markdown",
      "source": [
        "Hypothesis Testing"
      ],
      "metadata": {
        "id": "MdGRPVDyhJg2"
      }
    },
    {
      "cell_type": "code",
      "source": [
        "import math\n",
        "from scipy import stats\n",
        "\n",
        "sample_mean = 3050\n",
        "theoretical_mean = 1000 + 5 * 600\n",
        "sigma_units = 25\n",
        "sample_size = 25\n",
        "alpha = 0.05\n",
        "\n",
        "sigma_w = 5 * sigma_units\n",
        "\n"
      ],
      "metadata": {
        "id": "6GyY4Y1Aheuf"
      },
      "execution_count": 21,
      "outputs": []
    },
    {
      "cell_type": "code",
      "source": [
        "\n",
        "t_statistic = (sample_mean - theoretical_mean) / (sigma_w / math.sqrt(sample_size))\n",
        "\n",
        "\n",
        "critical_value = stats.t.ppf(1 - alpha, df=sample_size - 1)\n",
        "\n"
      ],
      "metadata": {
        "id": "GRpG7ekwhqw9"
      },
      "execution_count": 22,
      "outputs": []
    },
    {
      "cell_type": "code",
      "source": [
        "\n",
        "print(f\"Sample Mean (x̄): {sample_mean}\")\n",
        "print(f\"Theoretical Mean (μ): {theoretical_mean}\")\n",
        "print(f\"Standard Deviation of Weekly Cost (σ_w): {sigma_w}\")\n",
        "print(f\"Sample Size (n): {sample_size}\")\n",
        "print(f\"Test Statistic (t): {t_statistic:.4f}\")\n",
        "print(f\"Critical Value (t-critical) at α = {alpha}: {critical_value:.4f}\")\n",
        "\n"
      ],
      "metadata": {
        "colab": {
          "base_uri": "https://localhost:8080/"
        },
        "id": "AsTGJbXFhwft",
        "outputId": "0ab0dfdb-e725-4c4d-ceab-8ab305626bdc"
      },
      "execution_count": 23,
      "outputs": [
        {
          "output_type": "stream",
          "name": "stdout",
          "text": [
            "Sample Mean (x̄): 3050\n",
            "Theoretical Mean (μ): 4000\n",
            "Standard Deviation of Weekly Cost (σ_w): 125\n",
            "Sample Size (n): 25\n",
            "Test Statistic (t): -38.0000\n",
            "Critical Value (t-critical) at α = 0.05: 1.7109\n"
          ]
        }
      ]
    },
    {
      "cell_type": "code",
      "source": [
        "\n",
        "if t_statistic > critical_value:\n",
        "    print(\"Reject the null hypothesis: There is strong evidence to support the claim that the weekly operating costs are higher than the model suggests.\")\n",
        "else:\n",
        "    print(\"Fail to reject the null hypothesis: There is not enough evidence to support the claim that the weekly operating costs are higher than the model suggests.\")\n"
      ],
      "metadata": {
        "colab": {
          "base_uri": "https://localhost:8080/"
        },
        "id": "U8eWXBYshz0N",
        "outputId": "e03866a2-f88c-4ed6-d24c-dc88890dfbcd"
      },
      "execution_count": 24,
      "outputs": [
        {
          "output_type": "stream",
          "name": "stdout",
          "text": [
            "Fail to reject the null hypothesis: There is not enough evidence to support the claim that the weekly operating costs are higher than the model suggests.\n"
          ]
        }
      ]
    },
    {
      "cell_type": "markdown",
      "source": [
        "Based on the hypothesis testing there is not enough evidence to support the restaurant owners' claim that the weekly operating costs are higher"
      ],
      "metadata": {
        "id": "HwdUNWxVh2Cy"
      }
    }
  ]
}