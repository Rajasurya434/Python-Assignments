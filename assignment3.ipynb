{
  "nbformat": 4,
  "nbformat_minor": 0,
  "metadata": {
    "colab": {
      "provenance": [],
      "authorship_tag": "ABX9TyOkBKv3cTdTxYC3SX4NzEcI"
    },
    "kernelspec": {
      "name": "python3",
      "display_name": "Python 3"
    },
    "language_info": {
      "name": "python"
    }
  },
  "cells": [
    {
      "cell_type": "markdown",
      "source": [
        "**Prime Numbers**\n"
      ],
      "metadata": {
        "id": "PUrW2-Edhb1I"
      }
    },
    {
      "cell_type": "code",
      "execution_count": null,
      "metadata": {
        "colab": {
          "base_uri": "https://localhost:8080/"
        },
        "id": "yfWUaVmthYfN",
        "outputId": "ca215527-9129-472a-8dea-c70f50f5fe41"
      },
      "outputs": [
        {
          "output_type": "stream",
          "name": "stdout",
          "text": [
            "9\n",
            "not prime\n"
          ]
        }
      ],
      "source": [
        "x=int(input())\n",
        "if x>1:\n",
        "  for i in range(2,x):\n",
        "    if(x%1)==0:\n",
        "      print(\"not prime\")\n",
        "      break\n",
        "  else:\n",
        "    print(\"prime\")\n",
        "else:\n",
        "  print(\"not prime\")"
      ]
    },
    {
      "cell_type": "markdown",
      "source": [
        "**Product of two random numbers**"
      ],
      "metadata": {
        "id": "dLnbM7rLoCKw"
      }
    },
    {
      "cell_type": "code",
      "source": [
        "import random\n",
        "n=int(input())\n",
        "x=random.randint(1,100)\n",
        "print(\"First num is:\",x)\n",
        "y=random.randint(1,100)\n",
        "print(\"Second number is :\",y)\n",
        "z=x*y\n",
        "print(\"Produt is :\",z)\n",
        "\n",
        "if n==z:\n",
        "  print(\"correct\")\n",
        "else:\n",
        "  print(\"incorrect\")"
      ],
      "metadata": {
        "colab": {
          "base_uri": "https://localhost:8080/"
        },
        "id": "_aULoDlMnSMR",
        "outputId": "39bfddf5-13d4-4ced-beb9-3d9d4d8ad954"
      },
      "execution_count": null,
      "outputs": [
        {
          "output_type": "stream",
          "name": "stdout",
          "text": [
            "10002\n",
            "First num is: 70\n",
            "Second number is : 20\n",
            "Produt is : 1400\n",
            "incorrect\n"
          ]
        }
      ]
    },
    {
      "cell_type": "markdown",
      "source": [
        "**Square of Odd or Even numbers**"
      ],
      "metadata": {
        "id": "VbFNPCT-pma2"
      }
    },
    {
      "cell_type": "code",
      "source": [
        "x=str(input())\n",
        "if x==\"even\":\n",
        "  for i in range(100,201):\n",
        "\n",
        "    if i%2==0:\n",
        "      print(i*i)\n",
        "    else:\n",
        "      continue\n",
        "else:\n",
        "  for i in range(100,201):\n",
        "    if i%2!=0:\n",
        "      print(i*i)\n",
        "    else:\n",
        "      continue\n",
        "\n",
        "\n",
        "\n",
        "\n"
      ],
      "metadata": {
        "colab": {
          "base_uri": "https://localhost:8080/"
        },
        "id": "t_0TTrBMoFaQ",
        "outputId": "a1ddc25d-2b85-4053-a1ee-abc8a07ce738"
      },
      "execution_count": null,
      "outputs": [
        {
          "output_type": "stream",
          "name": "stdout",
          "text": [
            "odd\n",
            "10201\n",
            "10609\n",
            "11025\n",
            "11449\n",
            "11881\n",
            "12321\n",
            "12769\n",
            "13225\n",
            "13689\n",
            "14161\n",
            "14641\n",
            "15129\n",
            "15625\n",
            "16129\n",
            "16641\n",
            "17161\n",
            "17689\n",
            "18225\n",
            "18769\n",
            "19321\n",
            "19881\n",
            "20449\n",
            "21025\n",
            "21609\n",
            "22201\n",
            "22801\n",
            "23409\n",
            "24025\n",
            "24649\n",
            "25281\n",
            "25921\n",
            "26569\n",
            "27225\n",
            "27889\n",
            "28561\n",
            "29241\n",
            "29929\n",
            "30625\n",
            "31329\n",
            "32041\n",
            "32761\n",
            "33489\n",
            "34225\n",
            "34969\n",
            "35721\n",
            "36481\n",
            "37249\n",
            "38025\n",
            "38809\n",
            "39601\n"
          ]
        }
      ]
    },
    {
      "cell_type": "markdown",
      "source": [
        "Here i gave the choice for user to selct which one he wants either square for odd numbers or square for even numbers"
      ],
      "metadata": {
        "id": "7Bn9v1N7pXvG"
      }
    },
    {
      "cell_type": "markdown",
      "source": [
        "**Count words in a text**"
      ],
      "metadata": {
        "id": "MlXLfWDqqg3p"
      }
    },
    {
      "cell_type": "code",
      "source": [
        "input_text = \"This is a sample text. This text will be used to demonstrate the word counter.\"\n",
        "count=1\n",
        "for i in input_text:\n",
        "  if i == \" \":\n",
        "    count=count+1\n",
        "print(count)\n"
      ],
      "metadata": {
        "colab": {
          "base_uri": "https://localhost:8080/"
        },
        "id": "OpU6Mf8TprNR",
        "outputId": "e15dd19d-81fd-463c-fc9d-ab773f430611"
      },
      "execution_count": null,
      "outputs": [
        {
          "output_type": "stream",
          "name": "stdout",
          "text": [
            "15\n"
          ]
        }
      ]
    },
    {
      "cell_type": "markdown",
      "source": [
        "As space comes after 1st word so i started count from 1 ."
      ],
      "metadata": {
        "id": "sHhUZ1JQrKYl"
      }
    },
    {
      "cell_type": "markdown",
      "source": [
        "\n",
        "\n",
        "\n",
        "**Palindorme check**"
      ],
      "metadata": {
        "id": "8R6Ucx5dYfbn"
      }
    },
    {
      "cell_type": "code",
      "source": [
        "\n",
        "def isPalindrome(x):\n",
        "    str = x\n",
        "    for i in range(0, int(len(str)/2)):\n",
        "        if str[i] != str[len(str)-i-1]:\n",
        "            return False\n",
        "    return True\n",
        "\n",
        "s = input()\n",
        "ans = isPalindrome(s)\n",
        "\n",
        "if (ans):\n",
        "    print(\"Yes\")\n",
        "else:\n",
        "    print(\"No\")\n"
      ],
      "metadata": {
        "id": "zAreQU9orT2-",
        "colab": {
          "base_uri": "https://localhost:8080/"
        },
        "outputId": "1a71f72e-8c53-4839-dd5a-701d1a3dd50c"
      },
      "execution_count": 15,
      "outputs": [
        {
          "output_type": "stream",
          "name": "stdout",
          "text": [
            "12121\n",
            "Yes\n"
          ]
        }
      ]
    },
    {
      "cell_type": "markdown",
      "source": [
        "  x = str(x) converts the input to a string. This make sure that the palindrome check works consistently, whether the user enters a number, a string."
      ],
      "metadata": {
        "id": "vsFEjj6tYTQ5"
      }
    }
  ]
}